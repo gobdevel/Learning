{
 "cells": [
  {
   "cell_type": "markdown",
   "metadata": {},
   "source": [
    "# Simple Linear Regression\n"
   ]
  },
  {
   "cell_type": "markdown",
   "metadata": {},
   "source": [
    "### Theory of Simple Linear Regression\n",
    "\n",
    "Simple linear regression is a statistical method used to model the relationship between a dependent variable and a single independent variable. The goal is to find the best-fitting straight line through the data points that minimizes the sum of the squared differences between the observed values and the predicted values.\n",
    "\n",
    "#### Mathematical Model\n",
    "\n",
    "The general form of a simple linear regression model is:\n",
    "\n",
    "$$\n",
    "y = \\beta_0 + \\beta_1 x + \\epsilon\n",
    "$$\n",
    "\n",
    "where:\n",
    "- $y$ is the dependent variable (response).\n",
    "- $x$ is the independent variable (predictor).\n",
    "- $\\beta_0$ is the intercept.\n",
    "- $\\beta_1$ is the slope (coefficient) of the independent variable.\n",
    "- $\\epsilon$ is the error term (residual).\n",
    "\n",
    "#### Objective\n",
    "\n",
    "The objective of simple linear regression is to estimate the coefficients ($\\beta_0$ and $\\beta_1$) such that the sum of the squared differences between the observed values and the predicted values is minimized. This is known as the method of least squares.\n",
    "\n",
    "**The Mean Squared Error (MSE) is given by the formula:**\n",
    "\n",
    "$$\n",
    "\\text{MSE} = \\frac{1}{n} \\sum_{i=1}^{n} (y_i - \\hat{y}_i)^2\n",
    "$$\n",
    "\n",
    "where:\n",
    "- $n$ is the number of data points,\n",
    "- $y_i$ is the actual value,\n",
    "- $\\hat{y}_i$ is the predicted value.\n",
    "\n",
    "By minimizing this loss function, we can find the optimal values of $ \\beta_0 $ and $ \\beta_1 $ that best fit the data.\n",
    "\n",
    "### Example\n",
    "\n",
    "Let's consider a simple example with a dataset of house prices based on the size of the house:\n",
    "\n",
    "| Size (sq ft) | Price ($) |\n",
    "|--------------|-----------|\n",
    "| 500          | 150000    |\n",
    "| 1000         | 200000    |\n",
    "| 1500         | 250000    |\n",
    "| 2000         | 300000    |\n",
    "| 2500         | 350000    |"
   ]
  },
  {
   "cell_type": "markdown",
   "metadata": {},
   "source": [
    "\n",
    "\n",
    "We want to model the relationship between the size of the house and its price.\n",
    "\n",
    "1. **Plot the Data**: Visualize the data points on a scatter plot.\n",
    "2. **Fit the Model**: Use the least squares method to find the best-fitting line.\n",
    "3. **Equation**: The resulting linear equation might be:\n",
    "   $$\n",
    "   \\text{Price} = 50000 + 100 \\times \\text{Size}\n",
    "   $$\n",
    "\n",
    "### Use Cases\n",
    "\n",
    "Simple linear regression is widely used in various fields to understand and predict the relationship between two variables. Some common use cases include:\n",
    "\n",
    "1. **Predicting Sales**:\n",
    "   - **Example**: Predicting future sales based on advertising spend.\n",
    "   - **Use**: Helps businesses allocate their marketing budget more effectively.\n",
    "\n",
    "2. **Analyzing Trends**:\n",
    "   - **Example**: Analyzing the trend of temperature changes over time.\n",
    "   - **Use**: Helps in understanding climate change patterns.\n",
    "\n",
    "3. **Estimating Costs**:\n",
    "   - **Example**: Estimating the cost of production based on the number of units produced.\n",
    "   - **Use**: Helps in budgeting and financial planning.\n",
    "\n",
    "4. **Assessing Risk**:\n",
    "   - **Example**: Predicting the risk of heart disease based on cholesterol levels.\n",
    "   - **Use**: Helps in medical diagnosis and preventive healthcare.\n",
    "\n",
    "5. **Evaluating Performance**:\n",
    "   - **Example**: Evaluating the performance of students based on study hours.\n",
    "   - **Use**: Helps in educational planning and resource allocation.\n",
    "\n",
    "6. **Real Estate Valuation**:\n",
    "   - **Example**: Predicting house prices based on the size of the house.\n",
    "   - **Use**: Helps in real estate market analysis and investment decisions.\n",
    "\n",
    "### Conclusion\n",
    "\n",
    "Simple linear regression is a fundamental statistical tool for modeling and predicting the relationship between two variables. By understanding the underlying theory and practical applications, practitioners can effectively use simple linear regression to uncover insights and make informed decisions based on their data."
   ]
  },
  {
   "cell_type": "code",
   "execution_count": null,
   "metadata": {},
   "outputs": [],
   "source": [
    "class Point:\n",
    "    def __init__(self, x, y):\n",
    "        self.x = x\n",
    "        self.y = y\n",
    "\n",
    "    def __str__(self):\n",
    "        return f\"({self.x}, {self.y})\""
   ]
  },
  {
   "cell_type": "code",
   "execution_count": null,
   "metadata": {},
   "outputs": [],
   "source": [
    "import numpy as np\n",
    "\n",
    "class SimpleLinearRegression:\n",
    "    def __init__(self) -> None:\n",
    "        self.b0 = 0.0\n",
    "        self.b1 = 0.0\n",
    "\n",
    "    def build_model(self, points: list) -> None:\n",
    "        # Number of iterations\n",
    "        epochs = 10000\n",
    "        n = float(len(points))  # Number of points\n",
    "        best_loss = float('inf')\n",
    "\n",
    "        for i in range(epochs):\n",
    "            # Randomaly adjust m and b\n",
    "            b0_adjust = np.random.normal()\n",
    "            b1_adjust = np.random.normal()\n",
    "\n",
    "            self.b0 += b0_adjust\n",
    "            self.b1 += b1_adjust\n",
    "\n",
    "            # Calculate loss, which is the mean squared error\n",
    "            new_loss = 0.0\n",
    "            for p in points:\n",
    "                new_loss += (p.y - (self.b1 * p.x + self.b0)) ** 2\n",
    "\n",
    "            # if loss is better, keep the new values\n",
    "            if new_loss < best_loss:\n",
    "                best_loss = new_loss\n",
    "            else:\n",
    "                self.b0 -= b0_adjust\n",
    "                self.b1 -= b1_adjust"
   ]
  },
  {
   "cell_type": "code",
   "execution_count": null,
   "metadata": {},
   "outputs": [],
   "source": [
    "def plot_data(points: list, b0, b1):\n",
    "    import matplotlib.pyplot as plt\n",
    "\n",
    "    x = [p.x for p in points]\n",
    "    y = [p.y for p in points]\n",
    "\n",
    "    plt.scatter(x, y)\n",
    "    plt.plot([0, max(x)], [b0, b0 + b1 * max(x)], color='red')\n",
    "    plt.show()"
   ]
  },
  {
   "cell_type": "code",
   "execution_count": null,
   "metadata": {},
   "outputs": [],
   "source": [
    "import pandas as pd\n",
    "\n",
    "def generate_sample_data() -> pd.DataFrame:\n",
    "    ''' Generate synthetic house price data '''\n",
    "    np.random.seed(0)\n",
    "    n_samples = 100\n",
    "    # House sizes between 500 and 3500 square feet\n",
    "    size = np.random.uniform(500, 3500, n_samples)\n",
    "    # Linear relation with some noise\n",
    "    price = 50 * size + np.random.normal(0, 20000, n_samples)\n",
    "    return pd.DataFrame({'size': size, 'price': price})"
   ]
  },
  {
   "cell_type": "code",
   "execution_count": null,
   "metadata": {},
   "outputs": [
    {
     "name": "stdout",
     "output_type": "stream",
     "text": [
      "y = 51.58084529681251x + 62.71842341143146\n"
     ]
    },
    {
     "data": {
      "image/png": "[encoded data removed]",
      "text/plain": [
       "<Figure size 640x480 with 1 Axes>"
      ]
     },
     "metadata": {},
     "output_type": "display_data"
    }
   ],
   "source": [
    "if __name__ == '__main__':\n",
    "    df = generate_sample_data()\n",
    "    points = [Point(row['size'], row['price']) for index, row in df.iterrows()]\n",
    "    model = SimpleLinearRegression()\n",
    "    model.build_model(points)\n",
    "    print(f\"y = {model.b1}x + {model.b0}\")\n",
    "    plot_data(points, model.b0, model.b1)"
   ]
  }
 ],
 "metadata": {
  "kernelspec": {
   "display_name": ".venv",
   "language": "python",
   "name": "python3"
  },
  "language_info": {
   "codemirror_mode": {
    "name": "ipython",
    "version": 3
   },
   "file_extension": ".py",
   "mimetype": "text/x-python",
   "name": "python",
   "nbconvert_exporter": "python",
   "pygments_lexer": "ipython3",
   "version": "3.13.1"
  }
 },
 "nbformat": 4,
 "nbformat_minor": 2
}

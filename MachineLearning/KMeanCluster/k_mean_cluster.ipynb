{
 "cells": [
  {
   "cell_type": "markdown",
   "metadata": {},
   "source": [
    "# K Mean Clustering"
   ]
  },
  {
   "cell_type": "markdown",
   "metadata": {},
   "source": [
    "### Theory of K-Means Clustering\n",
    "\n",
    "K-Means Clustering is an unsupervised machine learning algorithm used to partition a dataset into `K` distinct, non-overlapping subsets (clusters). The algorithm aims to minimize the variance within each cluster, thereby ensuring that the data points within a cluster are as similar as possible.\n",
    "\n",
    "#### Algorithm Steps\n",
    "\n",
    "1. **Initialization**: Randomly select `K` initial centroids from the dataset.\n",
    "2. **Assignment**: Assign each data point to the nearest centroid, forming `K` clusters.\n",
    "3. **Update**: Calculate the new centroids as the mean of all data points assigned to each cluster.\n",
    "4. **Repeat**: Repeat the assignment and update steps until the centroids no longer change or a maximum number of iterations is reached.\n",
    "\n",
    "#### Mathematical Formulation\n",
    "\n",
    "The objective of K-Means is to minimize the following cost function:\n",
    "\n",
    "$$\n",
    "J = \\sum_{i=1}^{K} \\sum_{x \\in C_i} \\| x - \\mu_i \\|^2\n",
    "$$\n",
    "\n",
    "where:\n",
    "- $K$ is the number of clusters.\n",
    "- $C_i$ is the set of points in cluster $i$.\n",
    "- $\\mu_i$ is the centroid of cluster $i$.\n",
    "- $\\| x - \\mu_i \\|^2$ is the squared Euclidean distance between a point $x$ and the centroid $\\mu_i$.\n",
    "\n",
    "### Example\n",
    "\n",
    "Let's consider a simple example with a dataset of 2D points:\n",
    "\n"
   ]
  },
  {
   "cell_type": "code",
   "execution_count": 7,
   "metadata": {},
   "outputs": [
    {
     "data": {
      "text/plain": [
       "((1, 2), (2, 3), (3, 4), (8, 8), (9, 9), (10, 10))"
      ]
     },
     "execution_count": 7,
     "metadata": {},
     "output_type": "execute_result"
    }
   ],
   "source": [
    "(1, 2), (2, 3), (3, 4), (8, 8), (9, 9), (10, 10)"
   ]
  },
  {
   "cell_type": "markdown",
   "metadata": {},
   "source": [
    "\n",
    "\n",
    "We want to partition this dataset into `K=2` clusters.\n",
    "\n",
    "1. **Initialization**: Randomly select two initial centroids, e.g., (1, 2) and (9, 9).\n",
    "2. **Assignment**: Assign each point to the nearest centroid:\n",
    "   - Cluster 1: (1, 2), (2, 3), (3, 4)\n",
    "   - Cluster 2: (8, 8), (9, 9), (10, 10)\n",
    "3. **Update**: Calculate the new centroids:\n",
    "   - Centroid 1: Mean of (1, 2), (2, 3), (3, 4) = (2, 3)\n",
    "   - Centroid 2: Mean of (8, 8), (9, 9), (10, 10) = (9, 9)\n",
    "4. **Repeat**: Reassign points to the nearest centroid and update centroids until convergence.\n",
    "\n",
    "### Use Cases\n",
    "\n",
    "K-Means Clustering is widely used in various fields for different purposes:\n",
    "\n",
    "1. **Customer Segmentation**:\n",
    "   - **Example**: Segmenting customers based on purchasing behavior.\n",
    "   - **Use**: Helps businesses tailor marketing strategies to different customer groups.\n",
    "\n",
    "2. **Image Compression**:\n",
    "   - **Example**: Reducing the number of colors in an image.\n",
    "   - **Use**: Helps in compressing images by representing similar colors with a single color.\n",
    "\n",
    "3. **Document Clustering**:\n",
    "   - **Example**: Grouping similar documents based on content.\n",
    "   - **Use**: Helps in organizing large collections of documents for easier retrieval.\n",
    "\n",
    "4. **Anomaly Detection**:\n",
    "   - **Example**: Identifying unusual patterns in network traffic.\n",
    "   - **Use**: Helps in detecting fraudulent activities or network intrusions.\n",
    "\n",
    "5. **Market Basket Analysis**:\n",
    "   - **Example**: Grouping products frequently bought together.\n",
    "   - **Use**: Helps in optimizing product placement and cross-selling strategies.\n",
    "\n",
    "6. **Genomics**:\n",
    "   - **Example**: Clustering gene expression data.\n",
    "   - **Use**: Helps in identifying similar gene expression patterns for disease research.\n",
    "\n",
    "### Conclusion\n",
    "\n",
    "K-Means Clustering is a powerful and versatile algorithm for partitioning datasets into meaningful clusters. By understanding the underlying theory and practical applications, practitioners can effectively use K-Means to uncover hidden patterns and insights in their data."
   ]
  },
  {
   "cell_type": "code",
   "execution_count": 1,
   "metadata": {},
   "outputs": [],
   "source": [
    "class Point:\n",
    "    '''Represent a point in 2D space'''\n",
    "\n",
    "    def __init__(self, x, y):\n",
    "        self._x = x\n",
    "        self._y = y\n",
    "\n",
    "    def __str__(self):\n",
    "        return f'{self._x}, {self._y}'"
   ]
  },
  {
   "cell_type": "code",
   "execution_count": 2,
   "metadata": {},
   "outputs": [],
   "source": [
    "def distance(p1, p2):\n",
    "    '''Return the Euclidean distance between p1 and p2'''\n",
    "\n",
    "    return ((p1._x - p2._x) ** 2 + (p1._y - p2._y) ** 2) ** 0.5\n",
    "\n",
    "\n",
    "def closest_centroid(point, centroids):\n",
    "    '''Return the index of the closest centroid to the point'''\n",
    "    for c in centroids:\n",
    "        if distance(point, c) == min([distance(point, c) for c in centroids]):\n",
    "            return c\n",
    "\n",
    "\n",
    "def points_for_centroid(points, centroid, centroids):\n",
    "    '''Return the points that belong to the centroid'''\n",
    "    for p in points:\n",
    "        if closest_centroid(p, centroids) == centroid:\n",
    "            yield p"
   ]
  },
  {
   "cell_type": "code",
   "execution_count": null,
   "metadata": {},
   "outputs": [],
   "source": [
    "def build_model(points, k):\n",
    "    '''Return k centroids that represent the clusters of the points'''\n",
    "\n",
    "    # Initialize the centroids with the first k points\n",
    "    centroids = [points[np.random.randint(0, len(points))] for i in range(k)]\n",
    "    epochs = 30000\n",
    "\n",
    "    for i in range(epochs):\n",
    "        for c in centroids:\n",
    "            x_sum = 0.0\n",
    "            y_sum = 0.0\n",
    "\n",
    "            clustered_points = list(points_for_centroid(points, c, centroids))\n",
    "\n",
    "            for p in clustered_points:\n",
    "                x_sum += p._x\n",
    "                y_sum += p._y\n",
    "\n",
    "            if len(clustered_points) > 0:\n",
    "                c._x = x_sum / len(clustered_points)\n",
    "                c._y = y_sum / len(clustered_points)\n",
    "\n",
    "    return centroids"
   ]
  },
  {
   "cell_type": "code",
   "execution_count": 4,
   "metadata": {},
   "outputs": [],
   "source": [
    "def plot(points, centroids):\n",
    "    import matplotlib.pyplot as plt\n",
    "\n",
    "    x = [point._x for point in points]\n",
    "    y = [point._y for point in points]\n",
    "\n",
    "    plt.scatter(x, y, c='blue')\n",
    "\n",
    "    x = [point._x for point in centroids]\n",
    "    y = [point._y for point in centroids]\n",
    "\n",
    "    plt.scatter(x, y, c='red', marker='x')\n",
    "\n",
    "    plt.show()"
   ]
  },
  {
   "cell_type": "code",
   "execution_count": 5,
   "metadata": {},
   "outputs": [],
   "source": [
    "import numpy as np\n",
    "import pandas as pd\n",
    "\n",
    "def generate_samples(n_samples=300, n_clusters=4, cluster_std=1.0) -> pd.DataFrame:\n",
    "    np.random.seed(0)\n",
    "    samples_per_cluster = n_samples // n_clusters\n",
    "    data = []\n",
    "\n",
    "    for i in range(n_clusters):\n",
    "        center_x, center_y = np.random.uniform(-10, 10, 2)\n",
    "        for _ in range(samples_per_cluster):\n",
    "            x = np.random.normal(center_x, cluster_std)\n",
    "            y = np.random.normal(center_y, cluster_std)\n",
    "            data.append((x, y))\n",
    "\n",
    "    df = pd.DataFrame(data, columns=['x', 'y'])\n",
    "    return df"
   ]
  },
  {
   "cell_type": "code",
   "execution_count": 6,
   "metadata": {},
   "outputs": [
    {
     "data": {
      "image/png": "[encoded data removed]",
      "text/plain": [
       "<Figure size 640x480 with 1 Axes>"
      ]
     },
     "metadata": {},
     "output_type": "display_data"
    }
   ],
   "source": [
    "\n",
    "if __name__ == '__main__':\n",
    "    df = generate_samples()\n",
    "    points = [\n",
    "        (Point(row.x, row.y)) for index, row in df.iterrows()]\n",
    "    res = build_model(points, k=4)\n",
    "    plot(points, res)\n",
    "    # generate some test data for 4 clusters"
   ]
  }
 ],
 "metadata": {
  "kernelspec": {
   "display_name": ".venv",
   "language": "python",
   "name": "python3"
  },
  "language_info": {
   "codemirror_mode": {
    "name": "ipython",
    "version": 3
   },
   "file_extension": ".py",
   "mimetype": "text/x-python",
   "name": "python",
   "nbconvert_exporter": "python",
   "pygments_lexer": "ipython3",
   "version": "3.13.1"
  }
 },
 "nbformat": 4,
 "nbformat_minor": 2
}

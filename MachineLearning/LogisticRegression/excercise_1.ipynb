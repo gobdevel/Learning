{
 "cells": [
  {
   "cell_type": "markdown",
   "metadata": {},
   "source": [
    "###  Predict whether a color is dark or light based on its RGB values. The data is in color_sample.csv. The first three columns are the RGB values, and the fourth column is 1 if the color is dark, and 0 if the color is light. Use logistic regression to build a model that predicts whether a color is dark or light based on its RGB values. Plot the data and the model."
   ]
  },
  {
   "cell_type": "code",
   "execution_count": null,
   "metadata": {},
   "outputs": [],
   "source": [
    "class ColorSample:\n",
    "    ''' Class to store individual color samples '''\n",
    "    def __init__(self, red, green, blue, dark_or_light):\n",
    "        self.red = (red / 255.0 * 0.99) + 0.01\n",
    "        self.green = (green / 255.0 * 0.99) + 0.01\n",
    "        self.blue = (blue / 255.0 * 0.99) + 0.01\n",
    "        self.dark_or_light = dark_or_light\n",
    "\n",
    "    def __str__(self):\n",
    "        return (\n",
    "            \"red: \"\n",
    "            + str(self.red)\n",
    "            + \", green: \"\n",
    "            + str(self.green)\n",
    "            + \", blue: \"\n",
    "            + str(self.blue)\n",
    "            + \", dark_or_light: \"\n",
    "            + str(self.dark_or_light)\n",
    "        )"
   ]
  }
 ],
 "metadata": {
  "kernelspec": {
   "display_name": ".venv",
   "language": "python",
   "name": "python3"
  },
  "language_info": {
   "name": "python",
   "version": "3.13.1"
  }
 },
 "nbformat": 4,
 "nbformat_minor": 2
}

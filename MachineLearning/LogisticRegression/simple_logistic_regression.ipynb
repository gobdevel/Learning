{
 "cells": [
  {
   "cell_type": "markdown",
   "metadata": {},
   "source": [
    "### Overview of Simple Logistic Regression\n",
    "\n",
    "Simple logistic regression is a statistical method used to model the relationship between a binary dependent variable and a single independent variable. It is used to predict the probability of a binary outcome (e.g., success/failure, yes/no, 0/1) based on one predictor variable.\n",
    "\n",
    "#### Mathematical Model\n",
    "\n",
    "The logistic regression model is based on the logistic function (also known as the sigmoid function), which maps any real-valued number into the range [0, 1]. The logistic function is defined as:\n",
    "\n",
    "$$\n",
    "\\text{P}(Y=1|X) = \\frac{1}{1 + e^{-(\\beta_0 + \\beta_1 X)}}\n",
    "$$\n",
    "\n",
    "where:\n",
    "- $P(Y=1|X)$ is the probability that the dependent variable $Y$ equals 1 given the independent variable $X$.\n",
    "- $\\beta_0$ is the intercept.\n",
    "- $\\beta_1$ is the coefficient of the independent variable $X$.\n",
    "- $e$ is the base of the natural logarithm.\n",
    "\n",
    "#### Objective\n",
    "\n",
    "The objective of logistic regression is to estimate the coefficients ($\\beta_0$ and $\\beta_1$) that maximize the likelihood of observing the given data. This is done using the method of maximum likelihood estimation (MLE).\n",
    "\n",
    "### Example\n",
    "\n",
    "Let's consider a simple example where we want to predict whether a student will pass or fail an exam based on the number of hours studied:\n",
    "\n",
    "|Hours Studied| 1| 2| 3| 4| 5|\n",
    "|---|---|---|---|---|---|\n",
    "|Pass (1) / Fail (0)| 0| 0| 0| 1| 1|\n",
    "---\n"
   ]
  },
  {
   "cell_type": "markdown",
   "metadata": {},
   "source": [
    "\n",
    "\n",
    "We want to model the relationship between the number of hours studied and the probability of passing the exam.\n",
    "\n",
    "1. **Plot the Data**: Visualize the data points on a scatter plot.\n",
    "2. **Fit the Model**: Use logistic regression to find the best-fitting curve.\n",
    "3. **Equation**: The resulting logistic regression equation might be:\n",
    "   $$\n",
    "   \\text{P}(Y=1|X) = \\frac{1}{1 + e^{-(\\beta_0 + \\beta_1 X)}}\n",
    "   $$\n",
    "\n",
    "### Use Cases\n",
    "\n",
    "Simple logistic regression is widely used in various fields to model binary outcomes. Some common use cases include:\n",
    "\n",
    "1. **Medical Diagnosis**:\n",
    "   - **Example**: Predicting whether a patient has a disease based on diagnostic test results.\n",
    "   - **Use**: Helps in early detection and treatment planning.\n",
    "\n",
    "2. **Credit Scoring**:\n",
    "   - **Example**: Predicting whether a loan applicant will default based on credit history.\n",
    "   - **Use**: Helps financial institutions assess risk and make lending decisions.\n",
    "\n",
    "3. **Marketing**:\n",
    "   - **Example**: Predicting whether a customer will buy a product based on demographic information.\n",
    "   - **Use**: Helps businesses target marketing efforts and improve conversion rates.\n",
    "\n",
    "4. **Human Resources**:\n",
    "   - **Example**: Predicting whether an employee will leave the company based on job satisfaction and other factors.\n",
    "   - **Use**: Helps organizations implement retention strategies.\n",
    "\n",
    "5. **Elections**:\n",
    "   - **Example**: Predicting whether a voter will vote for a particular candidate based on survey responses.\n",
    "   - **Use**: Helps political campaigns understand voter behavior and tailor their strategies.\n",
    "\n",
    "### Conclusion\n",
    "\n",
    "Simple logistic regression is a powerful statistical tool for modeling and predicting binary outcomes. By understanding the underlying theory and practical applications, practitioners can effectively use logistic regression to uncover insights and make informed decisions based on their data.\n"
   ]
  },
  {
   "cell_type": "markdown",
   "metadata": {},
   "source": [
    "\n",
    "\n",
    "This example demonstrates how to generate synthetic data, fit a logistic regression model, and visualize the results in a scatter plot with the logistic regression curve."
   ]
  },
  {
   "cell_type": "markdown",
   "metadata": {},
   "source": [
    "# Loss function: Maximum Likelihood Estimation\n",
    "  $$L(w) = -1/N * \\sum_{i=1}^{N}( y_i*log(\\hat{y_i}) + (1-y_i)*log(1-\\hat{y_i}) )$$\n",
    "  where,\n",
    "  - $\\hat{y_i} = 1.0 / (1.0 + exp(-z_i))$\n",
    "  - $z = (\\beta_0 + \\beta_1x)$\n",
    "\n",
    "To solve the issue of floating point underflow, we can use the following\n",
    "- trick:\n",
    "    - $y = log(1.0 / (1.0 + exp(-z)))$   \n",
    "    - and to multiply use addition in log domain."
   ]
  },
  {
   "cell_type": "code",
   "execution_count": 14,
   "metadata": {},
   "outputs": [],
   "source": [
    "class Point:\n",
    "    def __init__(self, x, y):\n",
    "        self.x = x\n",
    "        self.y = y\n",
    "\n",
    "    def __str__(self):\n",
    "        return \"x: \" + str(self.x) + \", y: \" + str(self.y)"
   ]
  },
  {
   "cell_type": "code",
   "execution_count": 15,
   "metadata": {},
   "outputs": [],
   "source": [
    "import math\n",
    "\n",
    "def predict_probability(x, b0, b1):\n",
    "    p = 1.0 / (1.0 + math.exp(-b0 - b1 * x))\n",
    "    return p"
   ]
  },
  {
   "cell_type": "code",
   "execution_count": 16,
   "metadata": {},
   "outputs": [],
   "source": [
    "import numpy as np\n",
    "\n",
    "def build_model(points):\n",
    "    b0 = 0.01  # Logistic function dont like 0 so we start with a small value\n",
    "    b1 = 0.01\n",
    "    best_likelihood = -1000000\n",
    "\n",
    "    epoch = 10000\n",
    "\n",
    "    for i in range(epoch):\n",
    "        # select b0 or b1 randomaly and adjust it randomly\n",
    "        random_b = np.random.choice([0, 1])\n",
    "        random_adjust = np.random.normal()\n",
    "\n",
    "        if random_b == 0:\n",
    "            b0 += random_adjust\n",
    "        else:\n",
    "            b1 += random_adjust\n",
    "\n",
    "        # calculate the loss (log likelihood)\n",
    "        true_estimates = sum(\n",
    "            math.log(predict_probability(p.x, b0, b1)) for p in points if p.y == 1.0\n",
    "        )\n",
    "        false_estimate = sum(\n",
    "            math.log(1 - predict_probability(p.x, b0, b1))\n",
    "            for p in points\n",
    "            if p.y == 0.0\n",
    "        )\n",
    "        total_likelihood = true_estimates + false_estimate\n",
    "\n",
    "        # if likelihood is greater than previous likelihood, keep the changes\n",
    "        if best_likelihood < total_likelihood:\n",
    "            best_likelihood = total_likelihood\n",
    "        else:\n",
    "            if random_b == 0:\n",
    "                b0 -= random_adjust\n",
    "            else:\n",
    "                b1 -= random_adjust\n",
    "    return b0, b1"
   ]
  },
  {
   "cell_type": "code",
   "execution_count": 17,
   "metadata": {},
   "outputs": [],
   "source": [
    "import matplotlib.pyplot as plt\n",
    "\n",
    "def plot(points, b0, b1):\n",
    "\n",
    "    x = [p.x for p in points]\n",
    "    y = [p.y for p in points]\n",
    "    plt.scatter(x, y)\n",
    "\n",
    "    x = np.linspace(min(x), max(x), 100)\n",
    "    y = [predict_probability(i, b0, b1) for i in x]\n",
    "    plt.plot(x, y, color=\"red\")\n",
    "    plt.show()"
   ]
  },
  {
   "cell_type": "code",
   "execution_count": 18,
   "metadata": {},
   "outputs": [],
   "source": [
    "import pandas as pd\n",
    "\n",
    "def generate_samples() -> pd.DataFrame:\n",
    "    # Generate synthetic data for logistic regression\n",
    "    np.random.seed(0)\n",
    "    n_samples = 100\n",
    "    x = np.random.uniform(0, 10, n_samples)  # Predictor variable\n",
    "    # Logistic function to generate binary outcomes\n",
    "    y = (x > 5).astype(int)  # Binary outcome based on a threshold\n",
    "\n",
    "    # Add some noise to make the data more realistic\n",
    "    y = (np.random.rand(n_samples) < (1 / (1 + np.exp(-(x - 5))))).astype(int)\n",
    "\n",
    "    # Create a DataFrame\n",
    "    df = pd.DataFrame({'x': x, 'y': y})\n",
    "    return df"
   ]
  },
  {
   "cell_type": "code",
   "execution_count": 19,
   "metadata": {},
   "outputs": [
    {
     "name": "stdout",
     "output_type": "stream",
     "text": [
      "y = 1.0 / (1.0 + exp(-(-5.052485091646577 + 1.0231377541591735*x))\n"
     ]
    },
    {
     "data": {
      "image/png": "[encoded data removed]",
      "text/plain": [
       "<Figure size 640x480 with 1 Axes>"
      ]
     },
     "metadata": {},
     "output_type": "display_data"
    }
   ],
   "source": [
    "if __name__ == \"__main__\":\n",
    "    df = generate_samples()\n",
    "    points = [\n",
    "        Point(row.x, row.y) for index, row in df.iterrows()]\n",
    "    b0, b1 = build_model(points)\n",
    "    print(f'y = 1.0 / (1.0 + exp(-({b0} + {b1}*x))')\n",
    "    plot(points, b0, b1)"
   ]
  }
 ],
 "metadata": {
  "kernelspec": {
   "display_name": ".venv",
   "language": "python",
   "name": "python3"
  },
  "language_info": {
   "codemirror_mode": {
    "name": "ipython",
    "version": 3
   },
   "file_extension": ".py",
   "mimetype": "text/x-python",
   "name": "python",
   "nbconvert_exporter": "python",
   "pygments_lexer": "ipython3",
   "version": "3.13.1"
  }
 },
 "nbformat": 4,
 "nbformat_minor": 2
}
